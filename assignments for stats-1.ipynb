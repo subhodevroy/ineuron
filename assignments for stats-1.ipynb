{
 "cells": [
  {
   "cell_type": "code",
   "execution_count": 1,
   "metadata": {},
   "outputs": [],
   "source": [
    "import numpy as np\n",
    "import math\n",
    "import statistics \n",
    "import scipy.stats as st\n",
    "from scipy.stats import binom\n",
    "import matplotlib.pyplot as plt\n",
    "import scipy.integrate as integrate\n",
    "from scipy.stats import poisson\n",
    "from scipy.integrate import quad"
   ]
  },
  {
   "cell_type": "markdown",
   "metadata": {},
   "source": [
    "Problem Statement 1: \n",
    "The marks awarded for an assignment set for a Year 8 class of 20 students were as \n",
    "follows:\n",
    "6 7 5 7 7 8 7 6 9 7 4 10 6 8 8 9 5 6 4 8"
   ]
  },
  {
   "cell_type": "code",
   "execution_count": 2,
   "metadata": {},
   "outputs": [
    {
     "name": "stdout",
     "output_type": "stream",
     "text": [
      "mean : 6.85\n",
      "median is 7.0\n",
      "mode is 7\n",
      "standard deviation is 1.5898113095584647\n"
     ]
    }
   ],
   "source": [
    "marks=[6,7,5,7,7,8,7,6,9,7,4,10,6,8,8,9,5,6,4,8]\n",
    "mean2 =np.mean(marks)\n",
    "median=np.median(marks)\n",
    "mode=statistics.mode(marks)\n",
    "std=np.std(marks)\n",
    "print(\"mean : {}\".format(mean2))\n",
    "print(f\"median is {median}\")\n",
    "print(f\"mode is {mode}\")\n",
    "print(f\"standard deviation is {std}\")"
   ]
  },
  {
   "cell_type": "markdown",
   "metadata": {},
   "source": [
    "Problem Statement 2: \n",
    "The number of calls from motorists per day for roadside service was recorded for a \n",
    "particular month:\n",
    "28, 122, 217, 130, 120, 86, 80, 90, 140, 120, 70, 40, 145, 113, 90, 68, 174, 194, 170, \n",
    "100, 75, 104, 97, 75,\n",
    "123, 100, 75, 104, 97, 75, 123, 100, 89, 120, 109"
   ]
  },
  {
   "cell_type": "code",
   "execution_count": 3,
   "metadata": {},
   "outputs": [
    {
     "name": "stdout",
     "output_type": "stream",
     "text": [
      "mean : 107.51428571428572\n",
      "median is 100.0\n",
      "mode is 75\n",
      "standard deviation is 38.77287080168403\n"
     ]
    }
   ],
   "source": [
    "marks=[28, 122, 217, 130, 120, 86, 80, 90, 140, 120, 70, 40, 145, 113, 90, 68, 174, 194, 170, \n",
    "100, 75, 104, 97, 75,\n",
    "123, 100, 75, 104, 97, 75, 123, 100, 89, 120, 109]\n",
    "mean2 =np.mean(marks)\n",
    "median=np.median(marks)\n",
    "mode=statistics.mode(marks)\n",
    "std=np.std(marks)\n",
    "print(\"mean : {}\".format(mean2))\n",
    "print(f\"median is {median}\")\n",
    "print(f\"mode is {mode}\")\n",
    "print(f\"standard deviation is {std}\")"
   ]
  },
  {
   "cell_type": "markdown",
   "metadata": {},
   "source": [
    "Problem Statement 3: \n",
    "The number of times I go to the gym in weekdays, are given below along with its \n",
    "associated probability:\n",
    "x = 0, 1, 2, 3, 4, 5\n",
    "f(x) = 0.09, 0.15, 0.40, 0.25, 0.10, 0.01\n",
    "Calculate the mean no. of workouts in a week. Also evaluate the variance involved in \n",
    "it."
   ]
  },
  {
   "cell_type": "code",
   "execution_count": 4,
   "metadata": {},
   "outputs": [
    {
     "name": "stdout",
     "output_type": "stream",
     "text": [
      "mean : 2.15\n",
      "standard deviation is 1.107925990308017\n"
     ]
    }
   ],
   "source": [
    "work=[0, 1, 2, 3, 4, 5]\n",
    "prob=[0.09, 0.15, 0.40, 0.25, 0.10, 0.01]\n",
    "cum_time=np.multiply(work,prob)\n",
    "gym_mean=np.sum(cum_time,axis=0)\n",
    "gym_var=0\n",
    "for i in range(len(work)):\n",
    "    gym_var+=((work[i]-gym_mean)**2)*prob[i]\n",
    "gym_std=gym_var**0.5\n",
    "print(\"mean : {}\".format(gym_mean))\n",
    "print(f\"standard deviation is {gym_std}\")"
   ]
  },
  {
   "cell_type": "markdown",
   "metadata": {},
   "source": [
    "Problem Statement 4:\n",
    "Let the continuous random variable D denote the diameter of the hole drilled in an \n",
    "aluminum sheet. The target diameter to be achieved is 12.5mm. Random \n",
    "disturbances in the process often result in inaccuracy.\n",
    "Historical data shows that the distribution of D can be modelled by the PDF (𝑑) = \n",
    "20𝑒−20(𝑑−12.5), 𝑑 ≥ 12.5. If a part with diameter > 12.6 mm needs to be scrapped, \n",
    "what is the proportion of those parts? What is the CDF when the diameter is of 11 \n",
    "mm? What is your conclusion regarding the proportion of scraps?"
   ]
  },
  {
   "cell_type": "code",
   "execution_count": 5,
   "metadata": {},
   "outputs": [
    {
     "name": "stdout",
     "output_type": "stream",
     "text": [
      "The proportion of parts scrapped is 0.13533528323661398\n"
     ]
    }
   ],
   "source": [
    "\n",
    "def pdf(d):\n",
    "    return 20*np.exp(-20*(d-12.5))\n",
    "I = quad(pdf, 12.6, np.inf)[0]\n",
    "print(f\"The proportion of parts scrapped is {I}\")"
   ]
  },
  {
   "cell_type": "code",
   "execution_count": 6,
   "metadata": {},
   "outputs": [
    {
     "name": "stdout",
     "output_type": "stream",
     "text": [
      "The CDF when diameter is of 11 mm is 0.Since for d<12.5 the pdf will be 0\n"
     ]
    }
   ],
   "source": [
    "print(\"The CDF when diameter is of 11 mm is 0.Since for d<12.5 the pdf will be 0\")"
   ]
  },
  {
   "cell_type": "markdown",
   "metadata": {},
   "source": [
    "Problem Statement 5: \n",
    "A company manufactures LED bulbs with a faulty rate of 30%. If I randomly select 6 \n",
    "chosen LEDs, what is the probability of having 2 faulty LEDs in my sample? \n",
    "Calculate the average value of this process. Also evaluate the standard deviation \n",
    "associated with it."
   ]
  },
  {
   "cell_type": "code",
   "execution_count": 7,
   "metadata": {},
   "outputs": [
    {
     "name": "stdout",
     "output_type": "stream",
     "text": [
      " probability of having 2 faulty LEDs in my sample is 0.3241349999999999\n"
     ]
    }
   ],
   "source": [
    "p=0.3\n",
    "k=2\n",
    "n=6\n",
    "i=binom.pmf(k, n, p, loc=0)\n",
    "print(f\" probability of having 2 faulty LEDs in my sample is {i}\")"
   ]
  },
  {
   "cell_type": "code",
   "execution_count": 8,
   "metadata": {},
   "outputs": [
    {
     "name": "stdout",
     "output_type": "stream",
     "text": [
      "average value of this process is 1.7999999999999998\n",
      "standard deviation is 1.1224972160321822\n"
     ]
    }
   ],
   "source": [
    "mean,variance=binom.stats(n,p,loc=0)\n",
    "print(f\"average value of this process is {mean}\")\n",
    "print(f\"standard deviation is {variance**0.5}\")"
   ]
  },
  {
   "cell_type": "markdown",
   "metadata": {},
   "source": [
    "Problem Statement 6:\n",
    "    Gaurav and Barakha are both preparing for entrance exams. Gaurav attempts to \n",
    "solve 8 questions per day with a correction rate of 75%, while Barakha averages \n",
    "around 12 questions per day with a correction rate of 45%. What is the probability \n",
    "that each of them will solve 5 questions correctly? What happens in cases of 4 and 6 \n",
    "correct solutions? What do you infer from it? What are the two main governing \n",
    "factors affecting their ability to solve questions correctly? Give a pictorial \n",
    "representation of the same to validate your answer."
   ]
  },
  {
   "cell_type": "code",
   "execution_count": 9,
   "metadata": {},
   "outputs": [
    {
     "name": "stdout",
     "output_type": "stream",
     "text": [
      "probability of 4 questions correctly for gaurav is 0.08651733398437506 and  for barkha is0.16996393213605795\n",
      "probability of 5 questions correctly for gaurav is 0.20764160156250022 and  for barkha is0.22249823843265792\n",
      "probability of 6 questions correctly for gaurav is 0.31146240234375017 and  for barkha is0.21238468214026424\n"
     ]
    }
   ],
   "source": [
    "prob_g=0.75\n",
    "prob_b=0.45\n",
    "que_g=8\n",
    "que_b=12\n",
    "result_gaurav = []\n",
    "result_barkha = []\n",
    "k=[4,5,6]\n",
    "for i in range(len(k)):\n",
    "    result=binom.pmf(k[i],que_g, prob_g, loc=0)\n",
    "    result_gaurav.append(result)\n",
    "    results=binom.pmf(k[i],que_b, prob_b, loc=0)\n",
    "    result_barkha.append(results)\n",
    "for i in range(len(k)):\n",
    "    print(f\"probability of {k[i]} questions correctly for gaurav is {result_gaurav[i]} and  for barkha is{result_barkha[i]}\")\n",
    "list1=zip(k,result_gaurav)\n",
    "list2=zip(k,result_barkha)"
   ]
  },
  {
   "cell_type": "code",
   "execution_count": 10,
   "metadata": {},
   "outputs": [
    {
     "data": {
      "image/png": "[encoded data removed]",
      "text/plain": [
       "<Figure size 432x288 with 2 Axes>"
      ]
     },
     "metadata": {
      "needs_background": "light"
     },
     "output_type": "display_data"
    }
   ],
   "source": [
    "fig, axs = plt.subplots(1,2)\n",
    "\n",
    "x,y=zip(*list1)\n",
    "x1,y1=zip(*list2)\n",
    "axs[0].plot(x, y)\n",
    "axs[0].set_title(\"Gaurav\")\n",
    "axs[0].set_xlabel(\"Number of Questions\")\n",
    "axs[0].set_ylabel(\"Probability\")\n",
    "axs[1].plot(x1, y1)\n",
    "axs[1].set_title(\"Barkha\")\n",
    "axs[1].set_xlabel(\"Number of Questions\")\n",
    "axs[1].set_ylabel(\"Probability\")\n",
    "plt.show()"
   ]
  },
  {
   "cell_type": "code",
   "execution_count": 11,
   "metadata": {},
   "outputs": [
    {
     "name": "stdout",
     "output_type": "stream",
     "text": [
      "Initially barkha solves better but probability percentage of Gaurav is better so,Gaurav solve more correct questions.\n"
     ]
    }
   ],
   "source": [
    "print(\"Initially barkha solves better but probability percentage of Gaurav is better so,Gaurav solve more correct questions.\")\n",
    "          \n"
   ]
  },
  {
   "cell_type": "markdown",
   "metadata": {},
   "source": [
    "Problem Statement 7:\n",
    "Customers arrive at a rate of 72 per hour to my shop. What is the probability of 𝑘\n",
    "customers arriving in 4 minutes? a) 5 customers, b) not more than 3 customers, c) \n",
    "more than 3 customers. Give a pictorial representation of the same to validate your \n",
    "answer."
   ]
  },
  {
   "cell_type": "code",
   "execution_count": 12,
   "metadata": {},
   "outputs": [
    {
     "name": "stdout",
     "output_type": "stream",
     "text": [
      "probability of 5 customers arriving in 4 minutes : 0.17474768364388296\n",
      "probability of not more than 3 customers arriving in 4 minutes : 0.2942299164965642\n",
      "probability of  more than 3 customers arriving in 4 minutes : 0.7057700835034357\n"
     ]
    }
   ],
   "source": [
    "mu=72/60*4\n",
    "print(f\"probability of 5 customers arriving in 4 minutes : {poisson.pmf(5, mu, loc=0)}\")\n",
    "print(f\"probability of not more than 3 customers arriving in 4 minutes : {poisson.cdf(3, mu, loc=0)}\")\n",
    "print(f\"probability of  more than 3 customers arriving in 4 minutes : {1-poisson.cdf(3, mu, loc=0)}\")"
   ]
  },
  {
   "cell_type": "code",
   "execution_count": 13,
   "metadata": {},
   "outputs": [
    {
     "data": {
      "image/png": "[encoded data removed]",
      "text/plain": [
       "<Figure size 432x288 with 1 Axes>"
      ]
     },
     "metadata": {
      "needs_background": "light"
     },
     "output_type": "display_data"
    }
   ],
   "source": [
    "dict={}\n",
    "for i in range(0,10):\n",
    "     dict[i]=poisson.pmf(i,mu,loc=0)\n",
    "lists=sorted(dict.items())\n",
    "x,y=zip(*lists)\n",
    "plt.plot(x, y)\n",
    "plt.show()"
   ]
  },
  {
   "cell_type": "markdown",
   "metadata": {},
   "source": [
    "Problem Statement 8:\n",
    "I work as a data analyst in Aeon Learning Pvt. Ltd. After analyzing data, I make \n",
    "reports, where I have the efficiency of entering 77 words per minute with 6 errors per \n",
    "hour. What is the probability that I will commit 2 errors in a 455-word financial report?\n",
    "What happens when the no. of words increases/decreases (in case of 1000 words, \n",
    "255 words)? \n",
    "How is the 𝜆 affected?\n",
    "How does it influence the PMF? \n",
    "Give a pictorial representation of the same to validate your answer."
   ]
  },
  {
   "cell_type": "code",
   "execution_count": 14,
   "metadata": {},
   "outputs": [
    {
     "name": "stdout",
     "output_type": "stream",
     "text": [
      "probability of 255 words is 0.039377135392854104 and  𝜆 is0.33116883116883117\n",
      "probability of 455 words is 0.09669027375144444 and  𝜆 is0.5909090909090909\n",
      "probability of 1000 words is 0.23012815007300153 and  𝜆 is1.2987012987012987\n"
     ]
    }
   ],
   "source": [
    "prob=[]\n",
    "probability_errors=6/(77*60)\n",
    "n=[255,455,1000]\n",
    "mu=[]\n",
    "for i in range(len(n)):\n",
    "    mu.append(n[i]*probability_errors)\n",
    "    prob.append(poisson.pmf(2, mu[i], loc=0))\n",
    "for i in range(3):\n",
    "    print(f\"probability of {n[i]} words is {prob[i]} and  𝜆 is{mu[i]}\")\n",
    "    "
   ]
  },
  {
   "cell_type": "code",
   "execution_count": 15,
   "metadata": {},
   "outputs": [
    {
     "data": {
      "image/png": "[encoded data removed]",
      "text/plain": [
       "<Figure size 432x288 with 1 Axes>"
      ]
     },
     "metadata": {
      "needs_background": "light"
     },
     "output_type": "display_data"
    },
    {
     "name": "stdout",
     "output_type": "stream",
     "text": [
      "So we can conclude that with incease in number of words 𝜆 increases and so PMF also increases\n"
     ]
    }
   ],
   "source": [
    "lists=zip(n,prob)\n",
    "x,y=zip(*lists)\n",
    "plt.plot(x, y)\n",
    "plt.show()\n",
    "print(\"So we can conclude that with incease in number of words 𝜆 increases and so PMF also increases\")"
   ]
  },
  {
   "cell_type": "markdown",
   "metadata": {},
   "source": [
    "Problem Statement 9:\n",
    "Let the continuous random variable D denote the diameter of the hole drilled in an \n",
    "aluminum sheet. The target diameter to be achieved is 12.5mm. Random \n",
    "disturbances in the process often result in inaccuracy.\n",
    "Historical data shows that the distribution of D can be modelled by the PDF, f(d) = \n",
    "20e−20(d−12.5), d ≥ 12.5. If a part with diameter > 12.6 mm needs to be scrapped, \n",
    "what is the proportion of those parts? What is the CDF when the diameter is of 11 \n",
    "mm?\n",
    "What is the conclusion of this experiment?"
   ]
  },
  {
   "cell_type": "code",
   "execution_count": 16,
   "metadata": {},
   "outputs": [
    {
     "name": "stdout",
     "output_type": "stream",
     "text": [
      "The proportion of parts scrapped is 0.13533528323661398\n"
     ]
    }
   ],
   "source": [
    "from scipy.integrate import quad\n",
    "def pdf(d):\n",
    "    return 20*np.exp(-20*(d-12.5))\n",
    "I = quad(pdf, 12.6, np.inf)[0]\n",
    "print(f\"The proportion of parts scrapped is {I}\")"
   ]
  },
  {
   "cell_type": "code",
   "execution_count": 17,
   "metadata": {},
   "outputs": [
    {
     "name": "stdout",
     "output_type": "stream",
     "text": [
      "The CDF when diameter is of 11 mm is 0.Since for d<12.5 the pdf will be 0\n"
     ]
    }
   ],
   "source": [
    "print(\"The CDF when diameter is of 11 mm is 0.Since for d<12.5 the pdf will be 0\")"
   ]
  },
  {
   "cell_type": "markdown",
   "metadata": {},
   "source": [
    "Problem Statement 10:\n",
    "Please compute the following:\n",
    "a) P(Z > 1.26), . P(Z < −0.86), P(Z > −1.37), P(−1.25 < Z < 0.37), . P(Z ≤ −4.6)\n",
    "b) Find the value 𝑧 such that 𝑃(𝑍 > 𝑧) = 0.05\n",
    "c) Find the value of 𝑧 such that 𝑃(−𝑧 < 𝑍 < 𝑧) = 0.99"
   ]
  },
  {
   "cell_type": "code",
   "execution_count": 18,
   "metadata": {},
   "outputs": [
    {
     "name": "stdout",
     "output_type": "stream",
     "text": [
      "from Z table p(z>1.26): 0.10383468112130045\n",
      "from Z table p(z<−0.86): 0.1948945212518084\n",
      "from Z table p(z<−1.25 < Z < 0.37): 0.5386589811336914\n",
      "from Z table p(z<=−4.6): 0.9999978875452975\n"
     ]
    }
   ],
   "source": [
    "print(f\"from Z table p(z>1.26): {1-st.norm.cdf(1.26)}\")\n",
    "print(f\"from Z table p(z<−0.86): {st.norm.cdf(-0.86)}\")\n",
    "print(f\"from Z table p(z<−1.25 < Z < 0.37): {st.norm.cdf(0.37)-st.norm.cdf(-1.25)}\")\n",
    "print(f\"from Z table p(z<=−4.6): {st.norm.cdf(4.6)}\")"
   ]
  },
  {
   "cell_type": "code",
   "execution_count": 19,
   "metadata": {},
   "outputs": [
    {
     "name": "stdout",
     "output_type": "stream",
     "text": [
      "value of z such that p(Z<z)=0.05 is : -0.6448536269514722\n"
     ]
    }
   ],
   "source": [
    "\n",
    "print(f\"value of z such that p(Z<z)=0.05 is : {1-st.norm.ppf(1-0.05)}\")"
   ]
  },
  {
   "cell_type": "code",
   "execution_count": 20,
   "metadata": {},
   "outputs": [
    {
     "name": "stdout",
     "output_type": "stream",
     "text": [
      "dividinng actual by 2 we get:0.005\n",
      "from Z table p(z<0.005):2.5758293035489004\n"
     ]
    }
   ],
   "source": [
    "\n",
    "probability=round((1-0.99)/2,4)\n",
    "print(f\"dividinng actual by 2 we get:{probability}\")\n",
    "print(f\"from Z table p(z<{probability}):{st.norm.ppf(1-probability)}\")\n"
   ]
  },
  {
   "cell_type": "markdown",
   "metadata": {},
   "source": [
    "Problem Statement 11:\n",
    "The current flow in a copper wire follow a normal distribution with a mean of 10 𝑚A \n",
    "and a variance of 4 (𝑚𝐴)2. \n",
    "What is the probability that a current measurement will exceed 13 𝑚𝐴? What is the \n",
    "probability that a current measurement is between 9 and 11mA? Determine the \n",
    "current measurement which has a probability of 0.98."
   ]
  },
  {
   "cell_type": "code",
   "execution_count": 21,
   "metadata": {},
   "outputs": [],
   "source": [
    "population_mean=10\n",
    "population_variance=4\n",
    "population_sd=population_variance**0.5\n",
    "sample1=(13-population_mean)/population_sd\n",
    "sample2=(9-population_mean)/population_sd\n",
    "sample3=(11-population_mean)/population_sd\n"
   ]
  },
  {
   "cell_type": "code",
   "execution_count": 22,
   "metadata": {},
   "outputs": [
    {
     "name": "stdout",
     "output_type": "stream",
     "text": [
      "probability that a current measurement will exceed 13 𝑚𝐴 is 0.06680720126885809\n"
     ]
    }
   ],
   "source": [
    "print(f\"probability that a current measurement will exceed 13 𝑚𝐴 is {1-st.norm.cdf(sample1)}\")"
   ]
  },
  {
   "cell_type": "code",
   "execution_count": 23,
   "metadata": {},
   "outputs": [
    {
     "name": "stdout",
     "output_type": "stream",
     "text": [
      "probability that a current measurement  is between 9 and 11mA is 0.38292492254802624\n"
     ]
    }
   ],
   "source": [
    "print(f\"probability that a current measurement  is between 9 and 11mA is {abs(st.norm.cdf(sample2)-st.norm.cdf(sample3))}\")"
   ]
  },
  {
   "cell_type": "code",
   "execution_count": 24,
   "metadata": {},
   "outputs": [
    {
     "name": "stdout",
     "output_type": "stream",
     "text": [
      "the current measurement which has a probability of 0.98 is 11.96\n"
     ]
    }
   ],
   "source": [
    "current=0.98*population_sd+population_mean\n",
    "print(f\"the current measurement which has a probability of 0.98 is {current}\")"
   ]
  },
  {
   "cell_type": "markdown",
   "metadata": {},
   "source": [
    "Problem Statement 12:\n",
    "The shaft in a piston has its diameter normally distributed with a mean of 0.2508 inch \n",
    "and a standard deviation of 0.0005 inch. The specifications of the shaft are 0.2500 ∓\n",
    "0.0015 inch. What proportion of shafts are in sync with the specifications? If the \n",
    "process is centered so that the mean is equal to the target value of 0.2500, what \n",
    "proportion of shafts conform to the new specifications? What is your conclusion from \n",
    "this experiment?"
   ]
  },
  {
   "cell_type": "code",
   "execution_count": 6,
   "metadata": {},
   "outputs": [
    {
     "name": "stdout",
     "output_type": "stream",
     "text": [
      "Z_score for sample1 is2.1124547025023565e-06\n",
      "Z_score for sample2 is0.9192433407662225\n",
      "proportion of shafts are : 0.91924122831152\n"
     ]
    }
   ],
   "source": [
    "population_mean=0.2508\n",
    "population_sd=0.0005\n",
    "sample1=0.25-0.0015\n",
    "sample2=0.25+0.0015\n",
    "z_sample1=(sample1-population_mean)/population_sd\n",
    "z_sample2=(sample2-population_mean)/population_sd\n",
    "\n",
    "print(f\"proportion of shafts are : {st.norm.cdf(z_sample2)-st.norm.cdf(z_sample1)}\")"
   ]
  },
  {
   "cell_type": "code",
   "execution_count": 4,
   "metadata": {},
   "outputs": [
    {
     "name": "stdout",
     "output_type": "stream",
     "text": [
      "proportion of shafts are : 0.9973002039367398\n",
      "Conclusion is proportion of shafts increases with decrease in population mean\n"
     ]
    }
   ],
   "source": [
    "population_mean=0.2500\n",
    "population_sd=0.0005\n",
    "sample1=0.25-0.0015\n",
    "sample2=0.25+0.0015\n",
    "z_sample1=(sample1-population_mean)/population_sd\n",
    "z_sample2=(sample2-population_mean)/population_sd\n",
    "#print(f\"Z_score for sample1 is{z_sample1}\")\n",
    "#print(f\"Z_score for sample2 is{z_sample2}\")\n",
    "print(f\"proportion of shafts are : {st.norm.cdf(z_sample2)-st.norm.cdf(z_sample1)}\")\n",
    "print(\"Conclusion is proportion of shafts increases with decrease in population mean\")"
   ]
  },
  {
   "cell_type": "code",
   "execution_count": null,
   "metadata": {},
   "outputs": [],
   "source": []
  }
 ],
 "metadata": {
  "kernelspec": {
   "display_name": "Python 3",
   "language": "python",
   "name": "python3"
  },
  "language_info": {
   "codemirror_mode": {
    "name": "ipython",
    "version": 3
   },
   "file_extension": ".py",
   "mimetype": "text/x-python",
   "name": "python",
   "nbconvert_exporter": "python",
   "pygments_lexer": "ipython3",
   "version": "3.7.5"
  }
 },
 "nbformat": 4,
 "nbformat_minor": 2
}
