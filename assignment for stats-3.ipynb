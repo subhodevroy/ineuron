{
 "cells": [
  {
   "cell_type": "code",
   "execution_count": 11,
   "metadata": {},
   "outputs": [],
   "source": [
    "import scipy.stats\n",
    "import math\n",
    "from scipy.stats import norm"
   ]
  },
  {
   "cell_type": "markdown",
   "metadata": {},
   "source": [
    "Problem Statement 1:\n",
    "Blood glucose levels for obese patients have a mean of 100 with a standard deviation of 15. A researcher thinks that a diet high in raw cornstarch will have a positive effect on blood glucose levels. A sample of 36 patients who have tried the raw cornstarch diet have a mean glucose level of 108. Test the hypothesis that the raw cornstarch had an effect or not."
   ]
  },
  {
   "cell_type": "code",
   "execution_count": 2,
   "metadata": {},
   "outputs": [
    {
     "name": "stdout",
     "output_type": "stream",
     "text": [
      "H0: μ=100\n",
      "H1: μ!=`100\n"
     ]
    }
   ],
   "source": [
    "print(\"H0: μ=100\")\n",
    "print(\"H1: μ!=`100\")"
   ]
  },
  {
   "cell_type": "code",
   "execution_count": 3,
   "metadata": {},
   "outputs": [
    {
     "name": "stdout",
     "output_type": "stream",
     "text": [
      "Z_Score is 3.2\n",
      "Critical Region is -1.9599639845400545 1.9599639845400545\n"
     ]
    }
   ],
   "source": [
    "pop_mean=100\n",
    "pop_std=15\n",
    "n=36\n",
    "sample_mean=108\n",
    "alpha=0.05\n",
    "z_score=(sample_mean-pop_mean)/(pop_std/(n**0.5))\n",
    "print(f\"Z_Score is {z_score}\")\n",
    "print(f\"Critical Region is {norm.ppf(alpha/2)} {-norm.ppf(alpha/2)}\")"
   ]
  },
  {
   "cell_type": "code",
   "execution_count": 4,
   "metadata": {},
   "outputs": [
    {
     "name": "stdout",
     "output_type": "stream",
     "text": [
      "We reject nulll hypothesis since it lies in critical region.So,raw cornstarch had an effect\n"
     ]
    }
   ],
   "source": [
    "print(\"We reject nulll hypothesis since it lies in critical region.So,raw cornstarch had an effect\")"
   ]
  },
  {
   "cell_type": "markdown",
   "metadata": {},
   "source": [
    "Problem Statement 2:\n",
    "In one state, 52% of the voters are Republicans, and 48% are Democrats. In a second state, 47% of the voters are Republicans, and 53% are Democrats. Suppose a simple random sample of 100 voters are surveyed from each state.\n",
    "What is the probability that the survey will show a greater percentage of Republican voters in the second state than in the first state?"
   ]
  },
  {
   "cell_type": "code",
   "execution_count": 5,
   "metadata": {},
   "outputs": [],
   "source": [
    "p1=0.52\n",
    "d1=0.48\n",
    "p2=0.47\n",
    "d2=0.53\n",
    "n1=100\n",
    "n2=100\n",
    "std=(((p1*d1/100)+(p2*d2/100))**0.5)\n",
    "z=(p2-p1)/std"
   ]
  },
  {
   "cell_type": "code",
   "execution_count": 6,
   "metadata": {},
   "outputs": [
    {
     "name": "stdout",
     "output_type": "stream",
     "text": [
      "probability that the survey will show a greater percentage of Republican voters in the second state than in the first state 0.23946399182220013\n"
     ]
    }
   ],
   "source": [
    "print(f\"probability that the survey will show a greater percentage of Republican voters in the second state than in the first state {norm.cdf(z)}\")"
   ]
  },
  {
   "cell_type": "markdown",
   "metadata": {},
   "source": [
    "Problem Statement 3:\n",
    "You take the SAT and score 1100. The mean score for the SAT is 1026 and the standard \n",
    "deviation is 209. How well did you score on the test compared to the average test taker?"
   ]
  },
  {
   "cell_type": "code",
   "execution_count": 9,
   "metadata": {},
   "outputs": [
    {
     "name": "stdout",
     "output_type": "stream",
     "text": [
      "score on the test compared to the average test taker is 0.35 and % more than average is 0.14\n"
     ]
    }
   ],
   "source": [
    "pop_mean=1026\n",
    "pop_std=209\n",
    "sample=1100\n",
    "z=(sample-pop_mean)/pop_std\n",
    "prob=norm.cdf(z)\n",
    "print(f\"score on the test compared to the average test taker is {round(z,2)} and % more than average is {round(prob-0.5,2)}\" )\n"
   ]
  },
  {
   "cell_type": "code",
   "execution_count": null,
   "metadata": {},
   "outputs": [],
   "source": []
  }
 ],
 "metadata": {
  "kernelspec": {
   "display_name": "Python 3",
   "language": "python",
   "name": "python3"
  },
  "language_info": {
   "codemirror_mode": {
    "name": "ipython",
    "version": 3
   },
   "file_extension": ".py",
   "mimetype": "text/x-python",
   "name": "python",
   "nbconvert_exporter": "python",
   "pygments_lexer": "ipython3",
   "version": "3.7.5"
  }
 },
 "nbformat": 4,
 "nbformat_minor": 2
}
